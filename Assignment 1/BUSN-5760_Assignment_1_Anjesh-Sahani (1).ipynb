{
 "cells": [
  {
   "cell_type": "code",
   "execution_count": 108,
   "id": "3cb7468a-baf8-4827-8d3b-8709bc8bf542",
   "metadata": {},
   "outputs": [],
   "source": [
    "#BUSN 5760 Assignment-1_Anjesh_Sahani\n",
    "#Data Wrangling With Pandas\n",
    "#Anjesh-Sahani\n",
    "#ID= 4249264\n",
    "\n",
    "#####################################################\n",
    "#Importing the required package\n",
    "import pandas as pd"
   ]
  },
  {
   "cell_type": "code",
   "execution_count": 109,
   "id": "eacc73cb-0f36-4b1b-8484-642cd6eec3ce",
   "metadata": {},
   "outputs": [
    {
     "data": {
      "text/plain": [
       "(104, 4)"
      ]
     },
     "execution_count": 109,
     "metadata": {},
     "output_type": "execute_result"
    }
   ],
   "source": [
    "#######################################################\n",
    "#CSV dataset operations\n",
    "#######################################################\n",
    "#Q.1 \n",
    "#Loading grades dataset from the local machine and storing in df1 dataframe\n",
    "df1 = pd.read_csv(\"C:/Users/anjes/Desktop/Anjesh/HW-1/grades.csv\")\n",
    "\n",
    "#Just to check the data\n",
    "#it has 104 rows and 4 columns\n",
    "df1.shape"
   ]
  },
  {
   "cell_type": "code",
   "execution_count": 110,
   "id": "d48f3ff5-2797-4964-9d5c-29ddfdbf3e6b",
   "metadata": {},
   "outputs": [
    {
     "data": {
      "text/html": [
       "<div>\n",
       "<style scoped>\n",
       "    .dataframe tbody tr th:only-of-type {\n",
       "        vertical-align: middle;\n",
       "    }\n",
       "\n",
       "    .dataframe tbody tr th {\n",
       "        vertical-align: top;\n",
       "    }\n",
       "\n",
       "    .dataframe thead th {\n",
       "        text-align: right;\n",
       "    }\n",
       "</style>\n",
       "<table border=\"1\" class=\"dataframe\">\n",
       "  <thead>\n",
       "    <tr style=\"text-align: right;\">\n",
       "      <th></th>\n",
       "      <th>ID</th>\n",
       "      <th>Name</th>\n",
       "      <th>GPA</th>\n",
       "      <th>Major</th>\n",
       "    </tr>\n",
       "  </thead>\n",
       "  <tbody>\n",
       "    <tr>\n",
       "      <th>0</th>\n",
       "      <td>23</td>\n",
       "      <td>Rose Rios</td>\n",
       "      <td>3.97</td>\n",
       "      <td>Economics</td>\n",
       "    </tr>\n",
       "    <tr>\n",
       "      <th>1</th>\n",
       "      <td>55</td>\n",
       "      <td>Ian Brown</td>\n",
       "      <td>1.44</td>\n",
       "      <td>Political Science</td>\n",
       "    </tr>\n",
       "    <tr>\n",
       "      <th>2</th>\n",
       "      <td>54</td>\n",
       "      <td>Stanley Dean</td>\n",
       "      <td>3.75</td>\n",
       "      <td>Philosophy</td>\n",
       "    </tr>\n",
       "    <tr>\n",
       "      <th>3</th>\n",
       "      <td>19</td>\n",
       "      <td>Stephanie Henderson</td>\n",
       "      <td>1.86</td>\n",
       "      <td>Mathematics</td>\n",
       "    </tr>\n",
       "    <tr>\n",
       "      <th>4</th>\n",
       "      <td>81</td>\n",
       "      <td>Angela Mora</td>\n",
       "      <td>3.86</td>\n",
       "      <td>Physics</td>\n",
       "    </tr>\n",
       "    <tr>\n",
       "      <th>5</th>\n",
       "      <td>60</td>\n",
       "      <td>Mark Martin</td>\n",
       "      <td>1.47</td>\n",
       "      <td>Chemistry</td>\n",
       "    </tr>\n",
       "    <tr>\n",
       "      <th>6</th>\n",
       "      <td>47</td>\n",
       "      <td>Jennifer Perkins</td>\n",
       "      <td>2.88</td>\n",
       "      <td>English</td>\n",
       "    </tr>\n",
       "    <tr>\n",
       "      <th>7</th>\n",
       "      <td>11</td>\n",
       "      <td>William Stewart</td>\n",
       "      <td>1.27</td>\n",
       "      <td>Biology</td>\n",
       "    </tr>\n",
       "    <tr>\n",
       "      <th>8</th>\n",
       "      <td>34</td>\n",
       "      <td>Eric Moore</td>\n",
       "      <td>3.40</td>\n",
       "      <td>Spanish</td>\n",
       "    </tr>\n",
       "    <tr>\n",
       "      <th>9</th>\n",
       "      <td>70</td>\n",
       "      <td>Kenneth Rollins</td>\n",
       "      <td>2.37</td>\n",
       "      <td>Art</td>\n",
       "    </tr>\n",
       "  </tbody>\n",
       "</table>\n",
       "</div>"
      ],
      "text/plain": [
       "   ID                 Name   GPA              Major\n",
       "0  23            Rose Rios  3.97          Economics\n",
       "1  55            Ian Brown  1.44  Political Science\n",
       "2  54         Stanley Dean  3.75         Philosophy\n",
       "3  19  Stephanie Henderson  1.86        Mathematics\n",
       "4  81          Angela Mora  3.86            Physics\n",
       "5  60          Mark Martin  1.47          Chemistry\n",
       "6  47     Jennifer Perkins  2.88            English\n",
       "7  11      William Stewart  1.27            Biology\n",
       "8  34           Eric Moore  3.40            Spanish\n",
       "9  70      Kenneth Rollins  2.37                Art"
      ]
     },
     "execution_count": 110,
     "metadata": {},
     "output_type": "execute_result"
    }
   ],
   "source": [
    "#Q.2\n",
    "#Just to verify that we got data, displaying first 10 row of data\n",
    "df1.head(10)\n",
    "\n",
    "#From head function's output, it is clear that there are 3 different column:- ID, Name, GPA, and Major of student."
   ]
  },
  {
   "cell_type": "code",
   "execution_count": 111,
   "id": "3910a8ba-0e3d-4c67-8cf0-410cd0a54ab5",
   "metadata": {},
   "outputs": [
    {
     "data": {
      "text/html": [
       "<div>\n",
       "<style scoped>\n",
       "    .dataframe tbody tr th:only-of-type {\n",
       "        vertical-align: middle;\n",
       "    }\n",
       "\n",
       "    .dataframe tbody tr th {\n",
       "        vertical-align: top;\n",
       "    }\n",
       "\n",
       "    .dataframe thead th {\n",
       "        text-align: right;\n",
       "    }\n",
       "</style>\n",
       "<table border=\"1\" class=\"dataframe\">\n",
       "  <thead>\n",
       "    <tr style=\"text-align: right;\">\n",
       "      <th></th>\n",
       "      <th>ID</th>\n",
       "      <th>Name</th>\n",
       "      <th>GPA</th>\n",
       "      <th>Major</th>\n",
       "    </tr>\n",
       "  </thead>\n",
       "  <tbody>\n",
       "    <tr>\n",
       "      <th>94</th>\n",
       "      <td>20</td>\n",
       "      <td>Diane Brown</td>\n",
       "      <td>1.73</td>\n",
       "      <td>Mathematics</td>\n",
       "    </tr>\n",
       "    <tr>\n",
       "      <th>95</th>\n",
       "      <td>41</td>\n",
       "      <td>Brenda Valentine</td>\n",
       "      <td>3.10</td>\n",
       "      <td>Physics</td>\n",
       "    </tr>\n",
       "    <tr>\n",
       "      <th>96</th>\n",
       "      <td>86</td>\n",
       "      <td>Grace Hoffman</td>\n",
       "      <td>1.30</td>\n",
       "      <td>Chemistry</td>\n",
       "    </tr>\n",
       "    <tr>\n",
       "      <th>97</th>\n",
       "      <td>10</td>\n",
       "      <td>Joshua Ware</td>\n",
       "      <td>3.29</td>\n",
       "      <td>English</td>\n",
       "    </tr>\n",
       "    <tr>\n",
       "      <th>98</th>\n",
       "      <td>61</td>\n",
       "      <td>Ms. Samantha Steele</td>\n",
       "      <td>2.56</td>\n",
       "      <td>Spanish</td>\n",
       "    </tr>\n",
       "    <tr>\n",
       "      <th>99</th>\n",
       "      <td>22</td>\n",
       "      <td>Lisa Chen</td>\n",
       "      <td>1.45</td>\n",
       "      <td>Art</td>\n",
       "    </tr>\n",
       "    <tr>\n",
       "      <th>100</th>\n",
       "      <td>96</td>\n",
       "      <td>Jamie Knight</td>\n",
       "      <td>1.65</td>\n",
       "      <td>Business</td>\n",
       "    </tr>\n",
       "    <tr>\n",
       "      <th>101</th>\n",
       "      <td>95</td>\n",
       "      <td>Karen Williams</td>\n",
       "      <td>1.16</td>\n",
       "      <td>Business</td>\n",
       "    </tr>\n",
       "    <tr>\n",
       "      <th>102</th>\n",
       "      <td>80</td>\n",
       "      <td>Carrie Trujillo MD</td>\n",
       "      <td>1.44</td>\n",
       "      <td>Theatre</td>\n",
       "    </tr>\n",
       "    <tr>\n",
       "      <th>103</th>\n",
       "      <td>58</td>\n",
       "      <td>Renee Austin</td>\n",
       "      <td>2.60</td>\n",
       "      <td>Business</td>\n",
       "    </tr>\n",
       "  </tbody>\n",
       "</table>\n",
       "</div>"
      ],
      "text/plain": [
       "     ID                 Name   GPA        Major\n",
       "94   20          Diane Brown  1.73  Mathematics\n",
       "95   41     Brenda Valentine  3.10      Physics\n",
       "96   86        Grace Hoffman  1.30    Chemistry\n",
       "97   10          Joshua Ware  3.29      English\n",
       "98   61  Ms. Samantha Steele  2.56      Spanish\n",
       "99   22            Lisa Chen  1.45          Art\n",
       "100  96         Jamie Knight  1.65     Business\n",
       "101  95       Karen Williams  1.16     Business\n",
       "102  80   Carrie Trujillo MD  1.44      Theatre\n",
       "103  58         Renee Austin  2.60     Business"
      ]
     },
     "execution_count": 111,
     "metadata": {},
     "output_type": "execute_result"
    }
   ],
   "source": [
    "#Q.3\n",
    "#Displaying last 10 rows of data\n",
    "df1.tail(10)\n",
    "\n",
    "#This function will display last 10 rows of data."
   ]
  },
  {
   "cell_type": "code",
   "execution_count": 113,
   "id": "b58565e6-497e-47ed-b82d-956a8baa3c0a",
   "metadata": {},
   "outputs": [
    {
     "data": {
      "text/html": [
       "<div>\n",
       "<style scoped>\n",
       "    .dataframe tbody tr th:only-of-type {\n",
       "        vertical-align: middle;\n",
       "    }\n",
       "\n",
       "    .dataframe tbody tr th {\n",
       "        vertical-align: top;\n",
       "    }\n",
       "\n",
       "    .dataframe thead th {\n",
       "        text-align: right;\n",
       "    }\n",
       "</style>\n",
       "<table border=\"1\" class=\"dataframe\">\n",
       "  <thead>\n",
       "    <tr style=\"text-align: right;\">\n",
       "      <th></th>\n",
       "      <th>ID</th>\n",
       "      <th>GPA</th>\n",
       "    </tr>\n",
       "  </thead>\n",
       "  <tbody>\n",
       "    <tr>\n",
       "      <th>count</th>\n",
       "      <td>104.000000</td>\n",
       "      <td>104.000000</td>\n",
       "    </tr>\n",
       "    <tr>\n",
       "      <th>mean</th>\n",
       "      <td>51.721154</td>\n",
       "      <td>2.447115</td>\n",
       "    </tr>\n",
       "    <tr>\n",
       "      <th>std</th>\n",
       "      <td>29.253979</td>\n",
       "      <td>0.827750</td>\n",
       "    </tr>\n",
       "    <tr>\n",
       "      <th>min</th>\n",
       "      <td>1.000000</td>\n",
       "      <td>1.030000</td>\n",
       "    </tr>\n",
       "    <tr>\n",
       "      <th>25%</th>\n",
       "      <td>26.750000</td>\n",
       "      <td>1.657500</td>\n",
       "    </tr>\n",
       "    <tr>\n",
       "      <th>50%</th>\n",
       "      <td>52.500000</td>\n",
       "      <td>2.465000</td>\n",
       "    </tr>\n",
       "    <tr>\n",
       "      <th>75%</th>\n",
       "      <td>77.250000</td>\n",
       "      <td>3.132500</td>\n",
       "    </tr>\n",
       "    <tr>\n",
       "      <th>max</th>\n",
       "      <td>100.000000</td>\n",
       "      <td>3.970000</td>\n",
       "    </tr>\n",
       "  </tbody>\n",
       "</table>\n",
       "</div>"
      ],
      "text/plain": [
       "               ID         GPA\n",
       "count  104.000000  104.000000\n",
       "mean    51.721154    2.447115\n",
       "std     29.253979    0.827750\n",
       "min      1.000000    1.030000\n",
       "25%     26.750000    1.657500\n",
       "50%     52.500000    2.465000\n",
       "75%     77.250000    3.132500\n",
       "max    100.000000    3.970000"
      ]
     },
     "execution_count": 113,
     "metadata": {},
     "output_type": "execute_result"
    }
   ],
   "source": [
    "#Q.4\n",
    "#Displaying basic summary statistics for the dataset\n",
    "df1.describe()\n",
    "\n",
    "#This function provide quick overview of numerical data.\n",
    "#By using this function, we can have the 5 points summary information, \n",
    "#like mean, median, mode, max and standard deviation.\n",
    "#Which is important to get the overview of data using single function.\n",
    "\n",
    "#In this grades dataset the average gpa of student is 2.44, and the maximum is 3.97, we also have std deviation and 1st,2nd,3rd quartile value"
   ]
  },
  {
   "cell_type": "code",
   "execution_count": 114,
   "id": "1b5f2574-9a2a-4620-b690-2a4110e59fe0",
   "metadata": {},
   "outputs": [
    {
     "data": {
      "text/plain": [
       "0      False\n",
       "1      False\n",
       "2      False\n",
       "3      False\n",
       "4      False\n",
       "       ...  \n",
       "99     False\n",
       "100     True\n",
       "101     True\n",
       "102     True\n",
       "103     True\n",
       "Length: 104, dtype: bool"
      ]
     },
     "execution_count": 114,
     "metadata": {},
     "output_type": "execute_result"
    }
   ],
   "source": [
    "#Q.5\n",
    "#Check for duplicate rows and display them if they exist\n",
    "df1.duplicated()\n",
    "\n",
    "#duplicated() this function gives the information about which rows are duplicate, and that will denoted by boolean value True.\n",
    "#There are 4 duplicate row in this dataset"
   ]
  },
  {
   "cell_type": "code",
   "execution_count": null,
   "id": "0fd74879-ccbe-45df-af6b-efac8488828b",
   "metadata": {},
   "outputs": [],
   "source": []
  },
  {
   "cell_type": "code",
   "execution_count": 115,
   "id": "98785f87-7f24-4339-a96e-1ecb8996b9ff",
   "metadata": {},
   "outputs": [
    {
     "data": {
      "text/plain": [
       "4"
      ]
     },
     "execution_count": 115,
     "metadata": {},
     "output_type": "execute_result"
    }
   ],
   "source": [
    "################\n",
    "#OR ALTERNATIVE\n",
    "\n",
    "df1.duplicated().sum()\n",
    "#This function gives the total count of duplicate data\n",
    "#There are 4 duplicate rows"
   ]
  },
  {
   "cell_type": "code",
   "execution_count": 117,
   "id": "806d00e6-55ad-4e75-b518-56a47ac9ec82",
   "metadata": {},
   "outputs": [],
   "source": [
    "#Q.6\n",
    "#Drop any duplicate rows from the dataset.\n",
    "df1.drop_duplicates(inplace = True)\n",
    "\n",
    "#Inplace = True, This parameter is used to perform modifications on a DataFrame permanently\n",
    "#drop_duplicates() this function will drop all the duplicate rows from the dataset."
   ]
  },
  {
   "cell_type": "code",
   "execution_count": 118,
   "id": "fb0673ec-c6f5-46e4-aa22-685e59d7bae4",
   "metadata": {},
   "outputs": [
    {
     "data": {
      "text/plain": [
       "(100, 4)"
      ]
     },
     "execution_count": 118,
     "metadata": {},
     "output_type": "execute_result"
    }
   ],
   "source": [
    "#Just to verify that all the duplicate rows deleted or not\n",
    "df1.shape\n",
    "\n",
    "#There were 104 rows before deleting, but right now, ther are only 100 rows found. means 4 duplicate row deleted permanently."
   ]
  },
  {
   "cell_type": "code",
   "execution_count": 119,
   "id": "2b5df1db-7564-433a-ad86-169cb4c55433",
   "metadata": {},
   "outputs": [
    {
     "data": {
      "text/plain": [
       "ID       0\n",
       "Name     0\n",
       "GPA      0\n",
       "Major    0\n",
       "dtype: int64"
      ]
     },
     "execution_count": 119,
     "metadata": {},
     "output_type": "execute_result"
    }
   ],
   "source": [
    "#Q.7\n",
    "#Check rows with missing values and drop them if they exist\n",
    "df1.isna().sum()\n",
    "\n",
    "#There is no missing data in the dataset."
   ]
  },
  {
   "cell_type": "code",
   "execution_count": 123,
   "id": "dcc296f3-064b-429b-9646-fece566ac332",
   "metadata": {},
   "outputs": [
    {
     "data": {
      "text/plain": [
       "ID               0\n",
       "Name             0\n",
       "GPA              0\n",
       "Major            0\n",
       "Honor Student    0\n",
       "dtype: int64"
      ]
     },
     "execution_count": 123,
     "metadata": {},
     "output_type": "execute_result"
    }
   ],
   "source": [
    "#Q.8\n",
    "#Dropping missing value from the dataset\n",
    "df1.dropna(inplace = True)\n",
    "df1.isna().sum()"
   ]
  },
  {
   "cell_type": "code",
   "execution_count": 125,
   "id": "62aad1e7-6b7e-49dd-ab3f-ec594a364ab8",
   "metadata": {},
   "outputs": [
    {
     "name": "stdout",
     "output_type": "stream",
     "text": [
      "    ID                 Name   GPA              Major Honor Student\n",
      "0   23            Rose Rios  3.97          Economics           Yes\n",
      "1   55            Ian Brown  1.44  Political Science            No\n",
      "2   54         Stanley Dean  3.75         Philosophy           Yes\n",
      "3   19  Stephanie Henderson  1.86        Mathematics            No\n",
      "4   81          Angela Mora  3.86            Physics           Yes\n",
      "..  ..                  ...   ...                ...           ...\n",
      "95  41     Brenda Valentine  3.10            Physics            No\n",
      "96  86        Grace Hoffman  1.30          Chemistry            No\n",
      "97  10          Joshua Ware  3.29            English            No\n",
      "98  61  Ms. Samantha Steele  2.56            Spanish            No\n",
      "99  22            Lisa Chen  1.45                Art            No\n",
      "\n",
      "[100 rows x 5 columns]\n"
     ]
    }
   ],
   "source": [
    "#Creating new column called Honor Student and assinging value \"YES\" if it's GPA is greater than 3.5 otherwise \"NO\"\n",
    "# apply() function is used in this operation,\n",
    "df1['Honor Student'] = df1['GPA'].apply(lambda GPA: 'Yes' if GPA > 3.5 else 'No')\n",
    "\n",
    "#Display output\n",
    "print(df1)"
   ]
  },
  {
   "cell_type": "code",
   "execution_count": null,
   "id": "8c711bf7-5e6b-4d09-8436-afe9bbdff0b1",
   "metadata": {},
   "outputs": [],
   "source": []
  },
  {
   "cell_type": "code",
   "execution_count": 127,
   "id": "fe7390fb-7214-478e-ba3b-988c817b9a5a",
   "metadata": {},
   "outputs": [],
   "source": [
    "####################################################################\n",
    "#Excel dataset operation\n",
    "#Loading excel dataset\n",
    "####################################################################\n",
    "#Q.1\n",
    "#Loading Excel data\n",
    "df2 = pd.read_excel(\"C:/Users/anjes/Desktop/Anjesh/HW-1/tuition.xlsx\")"
   ]
  },
  {
   "cell_type": "code",
   "execution_count": 128,
   "id": "54927e8c-7254-4bb8-91af-32e05b481a7d",
   "metadata": {},
   "outputs": [
    {
     "data": {
      "text/html": [
       "<div>\n",
       "<style scoped>\n",
       "    .dataframe tbody tr th:only-of-type {\n",
       "        vertical-align: middle;\n",
       "    }\n",
       "\n",
       "    .dataframe tbody tr th {\n",
       "        vertical-align: top;\n",
       "    }\n",
       "\n",
       "    .dataframe thead th {\n",
       "        text-align: right;\n",
       "    }\n",
       "</style>\n",
       "<table border=\"1\" class=\"dataframe\">\n",
       "  <thead>\n",
       "    <tr style=\"text-align: right;\">\n",
       "      <th></th>\n",
       "      <th>ID</th>\n",
       "      <th>Name</th>\n",
       "      <th>State Resident</th>\n",
       "      <th>Tuition</th>\n",
       "      <th>Financial Aid</th>\n",
       "    </tr>\n",
       "  </thead>\n",
       "  <tbody>\n",
       "    <tr>\n",
       "      <th>0</th>\n",
       "      <td>17</td>\n",
       "      <td>Alexandra Green</td>\n",
       "      <td>Yes</td>\n",
       "      <td>20000.0</td>\n",
       "      <td>5180</td>\n",
       "    </tr>\n",
       "    <tr>\n",
       "      <th>1</th>\n",
       "      <td>18</td>\n",
       "      <td>Alexandra Green</td>\n",
       "      <td>No</td>\n",
       "      <td>30000.0</td>\n",
       "      <td>7087</td>\n",
       "    </tr>\n",
       "    <tr>\n",
       "      <th>2</th>\n",
       "      <td>81</td>\n",
       "      <td>Angela Mora</td>\n",
       "      <td>Yes</td>\n",
       "      <td>20000.0</td>\n",
       "      <td>12031</td>\n",
       "    </tr>\n",
       "    <tr>\n",
       "      <th>3</th>\n",
       "      <td>57</td>\n",
       "      <td>Angela Oneill DDS</td>\n",
       "      <td>Yes</td>\n",
       "      <td>20000.0</td>\n",
       "      <td>7064</td>\n",
       "    </tr>\n",
       "    <tr>\n",
       "      <th>4</th>\n",
       "      <td>2</td>\n",
       "      <td>Anthony Martinez</td>\n",
       "      <td>Yes</td>\n",
       "      <td>20000.0</td>\n",
       "      <td>6479</td>\n",
       "    </tr>\n",
       "    <tr>\n",
       "      <th>...</th>\n",
       "      <td>...</td>\n",
       "      <td>...</td>\n",
       "      <td>...</td>\n",
       "      <td>...</td>\n",
       "      <td>...</td>\n",
       "    </tr>\n",
       "    <tr>\n",
       "      <th>96</th>\n",
       "      <td>42</td>\n",
       "      <td>Summer Baker</td>\n",
       "      <td>Yes</td>\n",
       "      <td>20000.0</td>\n",
       "      <td>12094</td>\n",
       "    </tr>\n",
       "    <tr>\n",
       "      <th>97</th>\n",
       "      <td>43</td>\n",
       "      <td>Tamara Lowe</td>\n",
       "      <td>Yes</td>\n",
       "      <td>20000.0</td>\n",
       "      <td>5761</td>\n",
       "    </tr>\n",
       "    <tr>\n",
       "      <th>98</th>\n",
       "      <td>78</td>\n",
       "      <td>William Caldwell</td>\n",
       "      <td>No</td>\n",
       "      <td>30000.0</td>\n",
       "      <td>10663</td>\n",
       "    </tr>\n",
       "    <tr>\n",
       "      <th>99</th>\n",
       "      <td>11</td>\n",
       "      <td>William Stewart</td>\n",
       "      <td>Yes</td>\n",
       "      <td>20000.0</td>\n",
       "      <td>9349</td>\n",
       "    </tr>\n",
       "    <tr>\n",
       "      <th>100</th>\n",
       "      <td>4</td>\n",
       "      <td>Eric Ellis</td>\n",
       "      <td>No</td>\n",
       "      <td>30000.0</td>\n",
       "      <td>12978</td>\n",
       "    </tr>\n",
       "  </tbody>\n",
       "</table>\n",
       "<p>101 rows × 5 columns</p>\n",
       "</div>"
      ],
      "text/plain": [
       "     ID               Name State Resident  Tuition  Financial Aid\n",
       "0    17    Alexandra Green            Yes  20000.0           5180\n",
       "1    18    Alexandra Green             No  30000.0           7087\n",
       "2    81        Angela Mora            Yes  20000.0          12031\n",
       "3    57  Angela Oneill DDS            Yes  20000.0           7064\n",
       "4     2   Anthony Martinez            Yes  20000.0           6479\n",
       "..   ..                ...            ...      ...            ...\n",
       "96   42       Summer Baker            Yes  20000.0          12094\n",
       "97   43        Tamara Lowe            Yes  20000.0           5761\n",
       "98   78   William Caldwell             No  30000.0          10663\n",
       "99   11    William Stewart            Yes  20000.0           9349\n",
       "100   4         Eric Ellis             No  30000.0          12978\n",
       "\n",
       "[101 rows x 5 columns]"
      ]
     },
     "execution_count": 128,
     "metadata": {},
     "output_type": "execute_result"
    }
   ],
   "source": [
    "#Just by calling data frame name can also gives the information about first 5 and last 5 rows of data.\n",
    "df2"
   ]
  },
  {
   "cell_type": "code",
   "execution_count": 129,
   "id": "0766e78c-82bc-4658-be52-29bea4fa77c0",
   "metadata": {},
   "outputs": [
    {
     "data": {
      "text/html": [
       "<div>\n",
       "<style scoped>\n",
       "    .dataframe tbody tr th:only-of-type {\n",
       "        vertical-align: middle;\n",
       "    }\n",
       "\n",
       "    .dataframe tbody tr th {\n",
       "        vertical-align: top;\n",
       "    }\n",
       "\n",
       "    .dataframe thead th {\n",
       "        text-align: right;\n",
       "    }\n",
       "</style>\n",
       "<table border=\"1\" class=\"dataframe\">\n",
       "  <thead>\n",
       "    <tr style=\"text-align: right;\">\n",
       "      <th></th>\n",
       "      <th>ID</th>\n",
       "      <th>Name</th>\n",
       "      <th>State Resident</th>\n",
       "      <th>Tuition</th>\n",
       "      <th>Financial Aid</th>\n",
       "    </tr>\n",
       "  </thead>\n",
       "  <tbody>\n",
       "    <tr>\n",
       "      <th>0</th>\n",
       "      <td>17</td>\n",
       "      <td>Alexandra Green</td>\n",
       "      <td>Yes</td>\n",
       "      <td>20000.0</td>\n",
       "      <td>5180</td>\n",
       "    </tr>\n",
       "    <tr>\n",
       "      <th>1</th>\n",
       "      <td>18</td>\n",
       "      <td>Alexandra Green</td>\n",
       "      <td>No</td>\n",
       "      <td>30000.0</td>\n",
       "      <td>7087</td>\n",
       "    </tr>\n",
       "    <tr>\n",
       "      <th>2</th>\n",
       "      <td>81</td>\n",
       "      <td>Angela Mora</td>\n",
       "      <td>Yes</td>\n",
       "      <td>20000.0</td>\n",
       "      <td>12031</td>\n",
       "    </tr>\n",
       "    <tr>\n",
       "      <th>3</th>\n",
       "      <td>57</td>\n",
       "      <td>Angela Oneill DDS</td>\n",
       "      <td>Yes</td>\n",
       "      <td>20000.0</td>\n",
       "      <td>7064</td>\n",
       "    </tr>\n",
       "    <tr>\n",
       "      <th>4</th>\n",
       "      <td>2</td>\n",
       "      <td>Anthony Martinez</td>\n",
       "      <td>Yes</td>\n",
       "      <td>20000.0</td>\n",
       "      <td>6479</td>\n",
       "    </tr>\n",
       "    <tr>\n",
       "      <th>5</th>\n",
       "      <td>8</td>\n",
       "      <td>Barbara Tran</td>\n",
       "      <td>Yes</td>\n",
       "      <td>20000.0</td>\n",
       "      <td>9076</td>\n",
       "    </tr>\n",
       "    <tr>\n",
       "      <th>6</th>\n",
       "      <td>41</td>\n",
       "      <td>Brenda Valentine</td>\n",
       "      <td>No</td>\n",
       "      <td>30000.0</td>\n",
       "      <td>9915</td>\n",
       "    </tr>\n",
       "    <tr>\n",
       "      <th>7</th>\n",
       "      <td>40</td>\n",
       "      <td>Brittany Jones</td>\n",
       "      <td>Yes</td>\n",
       "      <td>20000.0</td>\n",
       "      <td>14916</td>\n",
       "    </tr>\n",
       "    <tr>\n",
       "      <th>8</th>\n",
       "      <td>80</td>\n",
       "      <td>Carrie Trujillo MD</td>\n",
       "      <td>Yes</td>\n",
       "      <td>20000.0</td>\n",
       "      <td>5444</td>\n",
       "    </tr>\n",
       "    <tr>\n",
       "      <th>9</th>\n",
       "      <td>45</td>\n",
       "      <td>Chase Sanders</td>\n",
       "      <td>No</td>\n",
       "      <td>30000.0</td>\n",
       "      <td>5594</td>\n",
       "    </tr>\n",
       "  </tbody>\n",
       "</table>\n",
       "</div>"
      ],
      "text/plain": [
       "   ID                Name State Resident  Tuition  Financial Aid\n",
       "0  17     Alexandra Green            Yes  20000.0           5180\n",
       "1  18     Alexandra Green             No  30000.0           7087\n",
       "2  81         Angela Mora            Yes  20000.0          12031\n",
       "3  57   Angela Oneill DDS            Yes  20000.0           7064\n",
       "4   2    Anthony Martinez            Yes  20000.0           6479\n",
       "5   8        Barbara Tran            Yes  20000.0           9076\n",
       "6  41    Brenda Valentine             No  30000.0           9915\n",
       "7  40      Brittany Jones            Yes  20000.0          14916\n",
       "8  80  Carrie Trujillo MD            Yes  20000.0           5444\n",
       "9  45       Chase Sanders             No  30000.0           5594"
      ]
     },
     "execution_count": 129,
     "metadata": {},
     "output_type": "execute_result"
    }
   ],
   "source": [
    "#Displaying the first 10 rows of data,\n",
    "df2.head(10)"
   ]
  },
  {
   "cell_type": "code",
   "execution_count": 130,
   "id": "381bf665-ac82-4016-a8cf-36d53adfe160",
   "metadata": {},
   "outputs": [
    {
     "data": {
      "text/plain": [
       "1"
      ]
     },
     "execution_count": 130,
     "metadata": {},
     "output_type": "execute_result"
    }
   ],
   "source": [
    "#checking if there is any duplicate data\n",
    "df2.duplicated().sum()\n",
    "\n",
    "#There is 1 duplicate row found"
   ]
  },
  {
   "cell_type": "code",
   "execution_count": 131,
   "id": "0a310fe6-0a33-433d-8510-61a2196da91c",
   "metadata": {},
   "outputs": [],
   "source": [
    "#Droping duplicated rows from the dataset\n",
    "df2.drop_duplicates(inplace = True)"
   ]
  },
  {
   "cell_type": "code",
   "execution_count": 132,
   "id": "b1d39480-c24a-4996-bf50-f8f3484b6aa4",
   "metadata": {},
   "outputs": [
    {
     "data": {
      "text/plain": [
       "0"
      ]
     },
     "execution_count": 132,
     "metadata": {},
     "output_type": "execute_result"
    }
   ],
   "source": [
    "#Just to verify\n",
    "df2.shape\n",
    "df2.duplicated().sum()"
   ]
  },
  {
   "cell_type": "code",
   "execution_count": 133,
   "id": "457f8f84-b3a3-401f-99fc-d528e6ae9bc6",
   "metadata": {},
   "outputs": [
    {
     "data": {
      "text/plain": [
       "ID                0\n",
       "Name              0\n",
       "State Resident    2\n",
       "Tuition           2\n",
       "Financial Aid     0\n",
       "dtype: int64"
      ]
     },
     "execution_count": 133,
     "metadata": {},
     "output_type": "execute_result"
    }
   ],
   "source": [
    "#Checking if there is any NA values in the dataset \n",
    "df2.isna().sum()\n",
    "\n",
    "#From the output there is 4 rows that have missing value, 2 in State Resident, and 2 in Tuition"
   ]
  },
  {
   "cell_type": "code",
   "execution_count": 134,
   "id": "4c43ee3f-82e6-42e9-bf56-8af9e30bca57",
   "metadata": {},
   "outputs": [],
   "source": [
    "#Droping missing values from the df2 dataset\n",
    "df2.dropna(inplace = True)\n",
    "\n"
   ]
  },
  {
   "cell_type": "code",
   "execution_count": 135,
   "id": "0f4eea34-e656-437d-bdd8-b569fc99f229",
   "metadata": {},
   "outputs": [
    {
     "data": {
      "text/plain": [
       "ID                0\n",
       "Name              0\n",
       "State Resident    0\n",
       "Tuition           0\n",
       "Financial Aid     0\n",
       "dtype: int64"
      ]
     },
     "execution_count": 135,
     "metadata": {},
     "output_type": "execute_result"
    }
   ],
   "source": [
    "#Just to check if missing value removed or not\n",
    "df2.shape\n",
    "df2.isna().sum()"
   ]
  },
  {
   "cell_type": "code",
   "execution_count": 136,
   "id": "ed3b1e1f-61e2-4c5d-a911-34ce9b1cf2ea",
   "metadata": {},
   "outputs": [
    {
     "name": "stdout",
     "output_type": "stream",
     "text": [
      "    ID                 Name State Resident  Tuition  Financial Aid     Cost\n",
      "0   17      Alexandra Green            Yes  20000.0           5180  14820.0\n",
      "1   18      Alexandra Green             No  30000.0           7087  22913.0\n",
      "2   81          Angela Mora            Yes  20000.0          12031   7969.0\n",
      "3   57    Angela Oneill DDS            Yes  20000.0           7064  12936.0\n",
      "4    2     Anthony Martinez            Yes  20000.0           6479  13521.0\n",
      "..  ..                  ...            ...      ...            ...      ...\n",
      "95  90  Stephanie Stevenson            Yes  20000.0          13431   6569.0\n",
      "96  42         Summer Baker            Yes  20000.0          12094   7906.0\n",
      "97  43          Tamara Lowe            Yes  20000.0           5761  14239.0\n",
      "98  78     William Caldwell             No  30000.0          10663  19337.0\n",
      "99  11      William Stewart            Yes  20000.0           9349  10651.0\n",
      "\n",
      "[98 rows x 6 columns]\n"
     ]
    }
   ],
   "source": [
    "#Creating new column called cost, and adding the new value by subtraction financual aid from tuition\n",
    "df2[\"Cost\"] =df2[\"Tuition\"]-df2[\"Financial Aid\"]\n",
    "print(df2)\n",
    "\n",
    "#what happen is an additional column called Cost get created and result is stored in that column."
   ]
  },
  {
   "cell_type": "code",
   "execution_count": 137,
   "id": "19853a5b-f782-4153-ae98-bb3f34bca784",
   "metadata": {},
   "outputs": [
    {
     "name": "stdout",
     "output_type": "stream",
     "text": [
      "    ID               Name_x   GPA              Major Honor Student  \\\n",
      "0   23            Rose Rios  3.97          Economics           Yes   \n",
      "1   55            Ian Brown  1.44  Political Science            No   \n",
      "2   54         Stanley Dean  3.75         Philosophy           Yes   \n",
      "3   19  Stephanie Henderson  1.86        Mathematics            No   \n",
      "4   81          Angela Mora  3.86            Physics           Yes   \n",
      "..  ..                  ...   ...                ...           ...   \n",
      "95  41     Brenda Valentine  3.10            Physics            No   \n",
      "96  86        Grace Hoffman  1.30          Chemistry            No   \n",
      "97  10          Joshua Ware  3.29            English            No   \n",
      "98  61  Ms. Samantha Steele  2.56            Spanish            No   \n",
      "99  22            Lisa Chen  1.45                Art            No   \n",
      "\n",
      "                 Name_y State Resident  Tuition  Financial Aid     Cost  \n",
      "0             Rose Rios            Yes  20000.0        11038.0   8962.0  \n",
      "1             Ian Brown            Yes  20000.0         6977.0  13023.0  \n",
      "2          Stanley Dean            Yes  20000.0        11481.0   8519.0  \n",
      "3                   NaN            NaN      NaN            NaN      NaN  \n",
      "4           Angela Mora            Yes  20000.0        12031.0   7969.0  \n",
      "..                  ...            ...      ...            ...      ...  \n",
      "95     Brenda Valentine             No  30000.0         9915.0  20085.0  \n",
      "96        Grace Hoffman             No  30000.0        12102.0  17898.0  \n",
      "97          Joshua Ware             No  30000.0        11174.0  18826.0  \n",
      "98  Ms. Samantha Steele             No  30000.0        13103.0  16897.0  \n",
      "99            Lisa Chen             No  30000.0         9901.0  20099.0  \n",
      "\n",
      "[100 rows x 10 columns]\n"
     ]
    }
   ],
   "source": [
    "#Merge the two dataframes into a new dataframe called “df3” using a full join(Outer Join) on the “ID” column\n",
    "df3 = pd.merge(df1,df2, on=\"ID\", how=\"outer\")\n",
    "print(df3)"
   ]
  },
  {
   "cell_type": "code",
   "execution_count": 138,
   "id": "9d126fe2-ee0d-4874-8a11-9eec4ac9df54",
   "metadata": {},
   "outputs": [
    {
     "data": {
      "text/plain": [
       "ID                0\n",
       "Name_x            0\n",
       "GPA               0\n",
       "Major             0\n",
       "Honor Student     0\n",
       "Name_y            2\n",
       "State Resident    2\n",
       "Tuition           2\n",
       "Financial Aid     2\n",
       "Cost              2\n",
       "dtype: int64"
      ]
     },
     "execution_count": 138,
     "metadata": {},
     "output_type": "execute_result"
    }
   ],
   "source": [
    "# Check df3 for missing values and drop the rows if they exist\n",
    "df3.isna().sum()\n",
    "\n",
    "#10 Rows found that has missing"
   ]
  },
  {
   "cell_type": "code",
   "execution_count": null,
   "id": "08f6e8ce-f095-4af6-a8ff-0413cb8c12f2",
   "metadata": {},
   "outputs": [],
   "source": []
  },
  {
   "cell_type": "code",
   "execution_count": 139,
   "id": "c130efef-1482-439c-bf87-4bb8c3890979",
   "metadata": {},
   "outputs": [],
   "source": [
    "#Removing the mising data from dataset\n",
    "df3.dropna(inplace = True)"
   ]
  },
  {
   "cell_type": "code",
   "execution_count": 141,
   "id": "7aec1050-804e-42dc-a7ea-5994f66ae58f",
   "metadata": {},
   "outputs": [
    {
     "data": {
      "text/plain": [
       "ID                0\n",
       "Name_x            0\n",
       "GPA               0\n",
       "Major             0\n",
       "Honor Student     0\n",
       "Name_y            0\n",
       "State Resident    0\n",
       "Tuition           0\n",
       "Financial Aid     0\n",
       "Cost              0\n",
       "dtype: int64"
      ]
     },
     "execution_count": 141,
     "metadata": {},
     "output_type": "execute_result"
    }
   ],
   "source": [
    "#Checking if it is removed or not\n",
    "df3.isna().sum()\n",
    "\n",
    "#There is no missing value anymore in the dataset"
   ]
  },
  {
   "cell_type": "code",
   "execution_count": 142,
   "id": "b16da673-0a56-4be2-a466-7477084ebde6",
   "metadata": {},
   "outputs": [
    {
     "name": "stdout",
     "output_type": "stream",
     "text": [
      "Major\n",
      "Art                  2.760000\n",
      "Biology              2.586667\n",
      "Business             2.051667\n",
      "Chemistry            2.652000\n",
      "Economics            3.970000\n",
      "English              2.658000\n",
      "History              2.567273\n",
      "Mathematics          1.640000\n",
      "Philosophy           2.701667\n",
      "Physics              2.345000\n",
      "Political Science    1.440000\n",
      "Spanish              2.258333\n",
      "Theatre              2.322857\n",
      "Name: GPA, dtype: float64\n"
     ]
    }
   ],
   "source": [
    "#Group the students by major and display the mean GPA and mean cost by major\n",
    "\n",
    "#Group the students by major and display the mean GPA by major\n",
    "mean_gpa = df3.groupby(\"Major\").GPA.mean()\n",
    "\n",
    "#Display result\n",
    "print(mean_gpa)"
   ]
  },
  {
   "cell_type": "code",
   "execution_count": 143,
   "id": "a28f6403-3ced-4f79-895a-f897144fa5fe",
   "metadata": {},
   "outputs": [
    {
     "name": "stdout",
     "output_type": "stream",
     "text": [
      "Major\n",
      "Art                  11472.125000\n",
      "Biology              13674.111111\n",
      "Business             12010.666667\n",
      "Chemistry            13750.800000\n",
      "Economics             8962.000000\n",
      "English              12958.000000\n",
      "History              11793.636364\n",
      "Mathematics          14377.600000\n",
      "Philosophy           13188.333333\n",
      "Physics              13250.750000\n",
      "Political Science    13023.000000\n",
      "Spanish              10735.000000\n",
      "Theatre              11180.714286\n",
      "Name: Cost, dtype: float64\n"
     ]
    }
   ],
   "source": [
    "#Group the students by major and display the mean cost by major\n",
    "mean_cost = df3.groupby(\"Major\").Cost.mean()\n",
    "\n",
    "#Display result\n",
    "print(mean_cost)"
   ]
  },
  {
   "cell_type": "code",
   "execution_count": 146,
   "id": "535fc29a-9f39-43a1-b1a6-ebbad7f977cd",
   "metadata": {},
   "outputs": [
    {
     "name": "stdout",
     "output_type": "stream",
     "text": [
      "    ID              Name_x   GPA              Major Honor Student  \\\n",
      "1   55           Ian Brown  1.44  Political Science            No   \n",
      "5   60         Mark Martin  1.47          Chemistry            No   \n",
      "7   11     William Stewart  1.27            Biology            No   \n",
      "18  39      Patrick Thomas  1.98            History            No   \n",
      "19  89       Derrick Jones  1.38         Philosophy            No   \n",
      "20  73       Rebecca Kelly  1.60        Mathematics            No   \n",
      "21  12     Jonathon Thomas  1.39            Physics            No   \n",
      "29  96        Jamie Knight  1.65           Business            No   \n",
      "33  25         Mark Hester  1.85            Spanish            No   \n",
      "38   3       Shawn Gilbert  1.85           Business            No   \n",
      "42  74        Claudia Wall  1.25            Spanish            No   \n",
      "45  59     Christina Irwin  1.79         Philosophy            No   \n",
      "46   4          Eric Ellis  1.20        Mathematics            No   \n",
      "48  95      Karen Williams  1.16           Business            No   \n",
      "53  91        Donald Ayala  1.41                Art            No   \n",
      "55  21          Dana Hodge  1.52            History            No   \n",
      "56  87      Matthew Ortega  1.62            Theatre            No   \n",
      "59  93   Dr. Jonathan Cook  1.39            History            No   \n",
      "61  38          Eric Myers  1.39        Mathematics            No   \n",
      "62  26        Julie Stuart  1.03            Physics            No   \n",
      "64  49           Judy Hunt  1.51            English            No   \n",
      "69  80  Carrie Trujillo MD  1.44            Theatre            No   \n",
      "74  97        Linda Dalton  1.30            Spanish            No   \n",
      "82   8        Barbara Tran  1.84          Chemistry            No   \n",
      "85  44        Derek Knight  1.36            Spanish            No   \n",
      "86  29    Jonathan Coleman  1.66                Art            No   \n",
      "90  72         Joseph Beck  1.56            Spanish            No   \n",
      "94  20         Diane Brown  1.73        Mathematics            No   \n",
      "96  86       Grace Hoffman  1.30          Chemistry            No   \n",
      "99  22           Lisa Chen  1.45                Art            No   \n",
      "\n",
      "                Name_y State Resident  Tuition  Financial Aid     Cost  \n",
      "1            Ian Brown            Yes  20000.0         6977.0  13023.0  \n",
      "5          Mark Martin            Yes  20000.0        12477.0   7523.0  \n",
      "7      William Stewart            Yes  20000.0         9349.0  10651.0  \n",
      "18      Patrick Thomas            Yes  20000.0        12634.0   7366.0  \n",
      "19       Derrick Jones             No  30000.0        14396.0  15604.0  \n",
      "20       Rebecca Kelly             No  30000.0        14502.0  15498.0  \n",
      "21     Jonathon Thomas             No  30000.0        12411.0  17589.0  \n",
      "29        Jamie Knight             No  30000.0         9843.0  20157.0  \n",
      "33         Mark Hester            Yes  20000.0        12729.0   7271.0  \n",
      "38       Shawn Gilbert            Yes  20000.0        14750.0   5250.0  \n",
      "42        Claudia Wall            Yes  20000.0        12958.0   7042.0  \n",
      "45     Christina Irwin             No  30000.0        13709.0  16291.0  \n",
      "46          Eric Ellis             No  30000.0        12978.0  17022.0  \n",
      "48      Karen Williams             No  30000.0        13375.0  16625.0  \n",
      "53        Donald Ayala            Yes  20000.0         9745.0  10255.0  \n",
      "55          Dana Hodge            Yes  20000.0        14628.0   5372.0  \n",
      "56      Matthew Ortega            Yes  20000.0        11835.0   8165.0  \n",
      "59   Dr. Jonathan Cook            Yes  20000.0         8386.0  11614.0  \n",
      "61          Eric Myers            Yes  20000.0         7008.0  12992.0  \n",
      "62        Julie Stuart            Yes  20000.0        12640.0   7360.0  \n",
      "64           Judy Hunt            Yes  20000.0         9404.0  10596.0  \n",
      "69  Carrie Trujillo MD            Yes  20000.0         5444.0  14556.0  \n",
      "74        Linda Dalton            Yes  20000.0        11388.0   8612.0  \n",
      "82        Barbara Tran            Yes  20000.0         9076.0  10924.0  \n",
      "85        Derek Knight            Yes  20000.0         8172.0  11828.0  \n",
      "86    Jonathan Coleman            Yes  20000.0         9574.0  10426.0  \n",
      "90         Joseph Beck            Yes  20000.0        11743.0   8257.0  \n",
      "94         Diane Brown             No  30000.0        11660.0  18340.0  \n",
      "96       Grace Hoffman             No  30000.0        12102.0  17898.0  \n",
      "99           Lisa Chen             No  30000.0         9901.0  20099.0  \n"
     ]
    }
   ],
   "source": [
    "#Filter out everyone with a GPA below a 2.0\n",
    "filter_result = df3[df3[\"GPA\"]<2.0]\n",
    "print(filter_result)"
   ]
  },
  {
   "cell_type": "code",
   "execution_count": 147,
   "id": "c3e32fe2-3bea-48ff-a524-2e3e5aa25242",
   "metadata": {},
   "outputs": [
    {
     "name": "stdout",
     "output_type": "stream",
     "text": [
      "     ID                Name_x   GPA        Major Honor Student  \\\n",
      "80  100    Lawrence Rodriguez  2.66      Theatre            No   \n",
      "67   99  Mrs. Mary Sampson MD  3.43          Art            No   \n",
      "11   98        Donald Blevins  3.52      Theatre           Yes   \n",
      "74   97          Linda Dalton  1.30      Spanish            No   \n",
      "29   96          Jamie Knight  1.65     Business            No   \n",
      "..  ...                   ...   ...          ...           ...   \n",
      "63    5        Chelsea Flores  3.01    Chemistry            No   \n",
      "46    4            Eric Ellis  1.20  Mathematics            No   \n",
      "38    3         Shawn Gilbert  1.85     Business            No   \n",
      "77    2      Anthony Martinez  2.86      History            No   \n",
      "51    1          Nicole Allen  3.17      Biology            No   \n",
      "\n",
      "                  Name_y State Resident  Tuition  Financial Aid     Cost  \n",
      "80    Lawrence Rodriguez            Yes  20000.0        13674.0   6326.0  \n",
      "67  Mrs. Mary Sampson MD            Yes  20000.0         8653.0  11347.0  \n",
      "11        Donald Blevins            Yes  20000.0        12147.0   7853.0  \n",
      "74          Linda Dalton            Yes  20000.0        11388.0   8612.0  \n",
      "29          Jamie Knight             No  30000.0         9843.0  20157.0  \n",
      "..                   ...            ...      ...            ...      ...  \n",
      "63        Chelsea Flores            Yes  20000.0         9534.0  10466.0  \n",
      "46            Eric Ellis             No  30000.0        12978.0  17022.0  \n",
      "38         Shawn Gilbert            Yes  20000.0        14750.0   5250.0  \n",
      "77      Anthony Martinez            Yes  20000.0         6479.0  13521.0  \n",
      "51          Nicole Allen            Yes  20000.0         9677.0  10323.0  \n",
      "\n",
      "[98 rows x 10 columns]\n"
     ]
    }
   ],
   "source": [
    "# Sort by ID in descending order\n",
    "sorted_result = df3.sort_values(by=\"ID\", ascending=False) #False will give me descennding order of ID\n",
    "\n",
    "#Printing result\n",
    "print(sorted_result)"
   ]
  },
  {
   "cell_type": "code",
   "execution_count": 148,
   "id": "69b75bed-cd56-48c3-a39c-88fc9e29c210",
   "metadata": {},
   "outputs": [],
   "source": [
    "# Export df3 as a CSV file \n",
    "df3.to_csv(\"df3_output.csv\", index=False)"
   ]
  },
  {
   "cell_type": "code",
   "execution_count": 149,
   "id": "58e65b25-4b5d-4935-90c9-75cb1c33a7f5",
   "metadata": {},
   "outputs": [],
   "source": [
    "# Export df3 as an Excel file\n",
    "df3.to_excel(\"df3_output.xlsx\", index=False)"
   ]
  },
  {
   "cell_type": "code",
   "execution_count": null,
   "id": "0f145972-6d6d-4c17-90e4-f81dd6c9292c",
   "metadata": {},
   "outputs": [],
   "source": []
  }
 ],
 "metadata": {
  "kernelspec": {
   "display_name": "Python 3 (ipykernel)",
   "language": "python",
   "name": "python3"
  },
  "language_info": {
   "codemirror_mode": {
    "name": "ipython",
    "version": 3
   },
   "file_extension": ".py",
   "mimetype": "text/x-python",
   "name": "python",
   "nbconvert_exporter": "python",
   "pygments_lexer": "ipython3",
   "version": "3.11.7"
  }
 },
 "nbformat": 4,
 "nbformat_minor": 5
}
